{
 "cells": [
  {
   "cell_type": "code",
   "execution_count": 77,
   "metadata": {},
   "outputs": [],
   "source": [
    "## Linear Regression ABC grocery"
   ]
  },
  {
   "cell_type": "code",
   "execution_count": 1,
   "metadata": {},
   "outputs": [],
   "source": [
    "import pandas as pd\n",
    "from sklearn.linear_model import LinearRegression\n",
    "import matplotlib.pyplot as plt\n",
    "import pickle\n",
    "from sklearn.utils import shuffle\n",
    "from sklearn.model_selection import train_test_split, cross_val_score, KFold\n",
    "from sklearn.metrics import r2_score"
   ]
  },
  {
   "cell_type": "code",
   "execution_count": null,
   "metadata": {},
   "outputs": [],
   "source": [
    "\n"
   ]
  },
  {
   "cell_type": "code",
   "execution_count": 2,
   "metadata": {},
   "outputs": [],
   "source": [
    "from sklearn.preprocessing import OneHotEncoder\n",
    "from sklearn.feature_selection import RFECV"
   ]
  },
  {
   "cell_type": "code",
   "execution_count": 3,
   "metadata": {},
   "outputs": [],
   "source": [
    "data_for_model=pickle.load(open(r\"C:\\Users\\12176\\Desktop\\lab\\Data science\\5. Machine_learning\\2. Datasets/abc_reg_modelling.p\", \"rb\"))"
   ]
  },
  {
   "cell_type": "code",
   "execution_count": 4,
   "metadata": {},
   "outputs": [
    {
     "data": {
      "text/html": [
       "<div>\n",
       "<style scoped>\n",
       "    .dataframe tbody tr th:only-of-type {\n",
       "        vertical-align: middle;\n",
       "    }\n",
       "\n",
       "    .dataframe tbody tr th {\n",
       "        vertical-align: top;\n",
       "    }\n",
       "\n",
       "    .dataframe thead th {\n",
       "        text-align: right;\n",
       "    }\n",
       "</style>\n",
       "<table border=\"1\" class=\"dataframe\">\n",
       "  <thead>\n",
       "    <tr style=\"text-align: right;\">\n",
       "      <th></th>\n",
       "      <th>customer_id</th>\n",
       "      <th>distance_from_store</th>\n",
       "      <th>gender</th>\n",
       "      <th>credit_score</th>\n",
       "      <th>customer_loyalty_score</th>\n",
       "      <th>toatl_sales_cost</th>\n",
       "      <th>num_items</th>\n",
       "      <th>transactions_id</th>\n",
       "      <th>product_area_id</th>\n",
       "      <th>average_basket_value</th>\n",
       "    </tr>\n",
       "  </thead>\n",
       "  <tbody>\n",
       "    <tr>\n",
       "      <th>862</th>\n",
       "      <td>4</td>\n",
       "      <td>2.14</td>\n",
       "      <td>M</td>\n",
       "      <td>0.64</td>\n",
       "      <td>0.564</td>\n",
       "      <td>3499.39</td>\n",
       "      <td>278</td>\n",
       "      <td>47</td>\n",
       "      <td>5</td>\n",
       "      <td>74.455106</td>\n",
       "    </tr>\n",
       "    <tr>\n",
       "      <th>865</th>\n",
       "      <td>372</td>\n",
       "      <td>4.38</td>\n",
       "      <td>F</td>\n",
       "      <td>0.50</td>\n",
       "      <td>0.321</td>\n",
       "      <td>3423.01</td>\n",
       "      <td>338</td>\n",
       "      <td>49</td>\n",
       "      <td>5</td>\n",
       "      <td>69.857347</td>\n",
       "    </tr>\n",
       "    <tr>\n",
       "      <th>866</th>\n",
       "      <td>104</td>\n",
       "      <td>2.36</td>\n",
       "      <td>F</td>\n",
       "      <td>0.63</td>\n",
       "      <td>0.587</td>\n",
       "      <td>3648.08</td>\n",
       "      <td>280</td>\n",
       "      <td>49</td>\n",
       "      <td>5</td>\n",
       "      <td>74.450612</td>\n",
       "    </tr>\n",
       "    <tr>\n",
       "      <th>868</th>\n",
       "      <td>373</td>\n",
       "      <td>0.21</td>\n",
       "      <td>M</td>\n",
       "      <td>0.47</td>\n",
       "      <td>0.972</td>\n",
       "      <td>3303.80</td>\n",
       "      <td>264</td>\n",
       "      <td>51</td>\n",
       "      <td>5</td>\n",
       "      <td>64.780392</td>\n",
       "    </tr>\n",
       "    <tr>\n",
       "      <th>869</th>\n",
       "      <td>712</td>\n",
       "      <td>0.07</td>\n",
       "      <td>M</td>\n",
       "      <td>0.70</td>\n",
       "      <td>0.991</td>\n",
       "      <td>3104.45</td>\n",
       "      <td>305</td>\n",
       "      <td>51</td>\n",
       "      <td>5</td>\n",
       "      <td>60.871569</td>\n",
       "    </tr>\n",
       "  </tbody>\n",
       "</table>\n",
       "</div>"
      ],
      "text/plain": [
       "     customer_id  distance_from_store gender  credit_score  \\\n",
       "862            4                 2.14      M          0.64   \n",
       "865          372                 4.38      F          0.50   \n",
       "866          104                 2.36      F          0.63   \n",
       "868          373                 0.21      M          0.47   \n",
       "869          712                 0.07      M          0.70   \n",
       "\n",
       "     customer_loyalty_score  toatl_sales_cost  num_items  transactions_id  \\\n",
       "862                   0.564           3499.39        278               47   \n",
       "865                   0.321           3423.01        338               49   \n",
       "866                   0.587           3648.08        280               49   \n",
       "868                   0.972           3303.80        264               51   \n",
       "869                   0.991           3104.45        305               51   \n",
       "\n",
       "     product_area_id  average_basket_value  \n",
       "862                5             74.455106  \n",
       "865                5             69.857347  \n",
       "866                5             74.450612  \n",
       "868                5             64.780392  \n",
       "869                5             60.871569  "
      ]
     },
     "execution_count": 4,
     "metadata": {},
     "output_type": "execute_result"
    }
   ],
   "source": [
    "data_for_model.tail()"
   ]
  },
  {
   "cell_type": "code",
   "execution_count": 5,
   "metadata": {},
   "outputs": [
    {
     "data": {
      "text/html": [
       "<div>\n",
       "<style scoped>\n",
       "    .dataframe tbody tr th:only-of-type {\n",
       "        vertical-align: middle;\n",
       "    }\n",
       "\n",
       "    .dataframe tbody tr th {\n",
       "        vertical-align: top;\n",
       "    }\n",
       "\n",
       "    .dataframe thead th {\n",
       "        text-align: right;\n",
       "    }\n",
       "</style>\n",
       "<table border=\"1\" class=\"dataframe\">\n",
       "  <thead>\n",
       "    <tr style=\"text-align: right;\">\n",
       "      <th></th>\n",
       "      <th>distance_from_store</th>\n",
       "      <th>gender</th>\n",
       "      <th>credit_score</th>\n",
       "      <th>customer_loyalty_score</th>\n",
       "      <th>toatl_sales_cost</th>\n",
       "      <th>num_items</th>\n",
       "      <th>transactions_id</th>\n",
       "      <th>product_area_id</th>\n",
       "      <th>average_basket_value</th>\n",
       "    </tr>\n",
       "  </thead>\n",
       "  <tbody>\n",
       "    <tr>\n",
       "      <th>0</th>\n",
       "      <td>3.38</td>\n",
       "      <td>F</td>\n",
       "      <td>0.59</td>\n",
       "      <td>0.263</td>\n",
       "      <td>2563.71</td>\n",
       "      <td>297</td>\n",
       "      <td>44</td>\n",
       "      <td>5</td>\n",
       "      <td>58.266136</td>\n",
       "    </tr>\n",
       "    <tr>\n",
       "      <th>1</th>\n",
       "      <td>4.76</td>\n",
       "      <td>F</td>\n",
       "      <td>0.52</td>\n",
       "      <td>0.298</td>\n",
       "      <td>2996.02</td>\n",
       "      <td>357</td>\n",
       "      <td>49</td>\n",
       "      <td>5</td>\n",
       "      <td>61.143265</td>\n",
       "    </tr>\n",
       "    <tr>\n",
       "      <th>2</th>\n",
       "      <td>4.45</td>\n",
       "      <td>F</td>\n",
       "      <td>0.49</td>\n",
       "      <td>0.337</td>\n",
       "      <td>2853.82</td>\n",
       "      <td>350</td>\n",
       "      <td>49</td>\n",
       "      <td>5</td>\n",
       "      <td>58.241224</td>\n",
       "    </tr>\n",
       "    <tr>\n",
       "      <th>3</th>\n",
       "      <td>0.91</td>\n",
       "      <td>M</td>\n",
       "      <td>0.54</td>\n",
       "      <td>0.873</td>\n",
       "      <td>2388.31</td>\n",
       "      <td>272</td>\n",
       "      <td>54</td>\n",
       "      <td>5</td>\n",
       "      <td>44.227963</td>\n",
       "    </tr>\n",
       "    <tr>\n",
       "      <th>4</th>\n",
       "      <td>3.02</td>\n",
       "      <td>F</td>\n",
       "      <td>0.63</td>\n",
       "      <td>0.350</td>\n",
       "      <td>2401.64</td>\n",
       "      <td>278</td>\n",
       "      <td>50</td>\n",
       "      <td>5</td>\n",
       "      <td>48.032800</td>\n",
       "    </tr>\n",
       "    <tr>\n",
       "      <th>...</th>\n",
       "      <td>...</td>\n",
       "      <td>...</td>\n",
       "      <td>...</td>\n",
       "      <td>...</td>\n",
       "      <td>...</td>\n",
       "      <td>...</td>\n",
       "      <td>...</td>\n",
       "      <td>...</td>\n",
       "      <td>...</td>\n",
       "    </tr>\n",
       "    <tr>\n",
       "      <th>862</th>\n",
       "      <td>2.14</td>\n",
       "      <td>M</td>\n",
       "      <td>0.64</td>\n",
       "      <td>0.564</td>\n",
       "      <td>3499.39</td>\n",
       "      <td>278</td>\n",
       "      <td>47</td>\n",
       "      <td>5</td>\n",
       "      <td>74.455106</td>\n",
       "    </tr>\n",
       "    <tr>\n",
       "      <th>865</th>\n",
       "      <td>4.38</td>\n",
       "      <td>F</td>\n",
       "      <td>0.50</td>\n",
       "      <td>0.321</td>\n",
       "      <td>3423.01</td>\n",
       "      <td>338</td>\n",
       "      <td>49</td>\n",
       "      <td>5</td>\n",
       "      <td>69.857347</td>\n",
       "    </tr>\n",
       "    <tr>\n",
       "      <th>866</th>\n",
       "      <td>2.36</td>\n",
       "      <td>F</td>\n",
       "      <td>0.63</td>\n",
       "      <td>0.587</td>\n",
       "      <td>3648.08</td>\n",
       "      <td>280</td>\n",
       "      <td>49</td>\n",
       "      <td>5</td>\n",
       "      <td>74.450612</td>\n",
       "    </tr>\n",
       "    <tr>\n",
       "      <th>868</th>\n",
       "      <td>0.21</td>\n",
       "      <td>M</td>\n",
       "      <td>0.47</td>\n",
       "      <td>0.972</td>\n",
       "      <td>3303.80</td>\n",
       "      <td>264</td>\n",
       "      <td>51</td>\n",
       "      <td>5</td>\n",
       "      <td>64.780392</td>\n",
       "    </tr>\n",
       "    <tr>\n",
       "      <th>869</th>\n",
       "      <td>0.07</td>\n",
       "      <td>M</td>\n",
       "      <td>0.70</td>\n",
       "      <td>0.991</td>\n",
       "      <td>3104.45</td>\n",
       "      <td>305</td>\n",
       "      <td>51</td>\n",
       "      <td>5</td>\n",
       "      <td>60.871569</td>\n",
       "    </tr>\n",
       "  </tbody>\n",
       "</table>\n",
       "<p>400 rows × 9 columns</p>\n",
       "</div>"
      ],
      "text/plain": [
       "     distance_from_store gender  credit_score  customer_loyalty_score  \\\n",
       "0                   3.38      F          0.59                   0.263   \n",
       "1                   4.76      F          0.52                   0.298   \n",
       "2                   4.45      F          0.49                   0.337   \n",
       "3                   0.91      M          0.54                   0.873   \n",
       "4                   3.02      F          0.63                   0.350   \n",
       "..                   ...    ...           ...                     ...   \n",
       "862                 2.14      M          0.64                   0.564   \n",
       "865                 4.38      F          0.50                   0.321   \n",
       "866                 2.36      F          0.63                   0.587   \n",
       "868                 0.21      M          0.47                   0.972   \n",
       "869                 0.07      M          0.70                   0.991   \n",
       "\n",
       "     toatl_sales_cost  num_items  transactions_id  product_area_id  \\\n",
       "0             2563.71        297               44                5   \n",
       "1             2996.02        357               49                5   \n",
       "2             2853.82        350               49                5   \n",
       "3             2388.31        272               54                5   \n",
       "4             2401.64        278               50                5   \n",
       "..                ...        ...              ...              ...   \n",
       "862           3499.39        278               47                5   \n",
       "865           3423.01        338               49                5   \n",
       "866           3648.08        280               49                5   \n",
       "868           3303.80        264               51                5   \n",
       "869           3104.45        305               51                5   \n",
       "\n",
       "     average_basket_value  \n",
       "0               58.266136  \n",
       "1               61.143265  \n",
       "2               58.241224  \n",
       "3               44.227963  \n",
       "4               48.032800  \n",
       "..                    ...  \n",
       "862             74.455106  \n",
       "865             69.857347  \n",
       "866             74.450612  \n",
       "868             64.780392  \n",
       "869             60.871569  \n",
       "\n",
       "[400 rows x 9 columns]"
      ]
     },
     "execution_count": 5,
     "metadata": {},
     "output_type": "execute_result"
    }
   ],
   "source": [
    "## drop unneccessary columns\n",
    "data_for_model.drop([\"customer_id\"], axis=1)"
   ]
  },
  {
   "cell_type": "code",
   "execution_count": 6,
   "metadata": {},
   "outputs": [],
   "source": [
    "### shuffle the data\n",
    "data_for_model = shuffle(data_for_model, random_state=42)"
   ]
  },
  {
   "cell_type": "code",
   "execution_count": 7,
   "metadata": {},
   "outputs": [],
   "source": [
    "### dealing with missing values"
   ]
  },
  {
   "cell_type": "code",
   "execution_count": 8,
   "metadata": {},
   "outputs": [
    {
     "data": {
      "text/plain": [
       "customer_id               0\n",
       "distance_from_store       2\n",
       "gender                    3\n",
       "credit_score              2\n",
       "customer_loyalty_score    0\n",
       "toatl_sales_cost          0\n",
       "num_items                 0\n",
       "transactions_id           0\n",
       "product_area_id           0\n",
       "average_basket_value      0\n",
       "dtype: int64"
      ]
     },
     "execution_count": 8,
     "metadata": {},
     "output_type": "execute_result"
    }
   ],
   "source": [
    "data_for_model.isna().sum() ##not many missing values. we can just drop the row"
   ]
  },
  {
   "cell_type": "code",
   "execution_count": 9,
   "metadata": {},
   "outputs": [],
   "source": [
    "data_for_model.dropna(how=\"any\", inplace =True)\n"
   ]
  },
  {
   "cell_type": "code",
   "execution_count": 10,
   "metadata": {},
   "outputs": [
    {
     "data": {
      "text/plain": [
       "customer_id               0\n",
       "distance_from_store       0\n",
       "gender                    0\n",
       "credit_score              0\n",
       "customer_loyalty_score    0\n",
       "toatl_sales_cost          0\n",
       "num_items                 0\n",
       "transactions_id           0\n",
       "product_area_id           0\n",
       "average_basket_value      0\n",
       "dtype: int64"
      ]
     },
     "execution_count": 10,
     "metadata": {},
     "output_type": "execute_result"
    }
   ],
   "source": [
    "data_for_model.isna().sum()"
   ]
  },
  {
   "cell_type": "code",
   "execution_count": 11,
   "metadata": {},
   "outputs": [],
   "source": [
    "### deal with outliers\n"
   ]
  },
  {
   "cell_type": "code",
   "execution_count": 12,
   "metadata": {},
   "outputs": [],
   "source": [
    "outlier_investigatoin=data_for_model.describe()"
   ]
  },
  {
   "cell_type": "code",
   "execution_count": 13,
   "metadata": {},
   "outputs": [
    {
     "data": {
      "text/html": [
       "<div>\n",
       "<style scoped>\n",
       "    .dataframe tbody tr th:only-of-type {\n",
       "        vertical-align: middle;\n",
       "    }\n",
       "\n",
       "    .dataframe tbody tr th {\n",
       "        vertical-align: top;\n",
       "    }\n",
       "\n",
       "    .dataframe thead th {\n",
       "        text-align: right;\n",
       "    }\n",
       "</style>\n",
       "<table border=\"1\" class=\"dataframe\">\n",
       "  <thead>\n",
       "    <tr style=\"text-align: right;\">\n",
       "      <th></th>\n",
       "      <th>customer_id</th>\n",
       "      <th>distance_from_store</th>\n",
       "      <th>credit_score</th>\n",
       "      <th>customer_loyalty_score</th>\n",
       "      <th>toatl_sales_cost</th>\n",
       "      <th>num_items</th>\n",
       "      <th>transactions_id</th>\n",
       "      <th>product_area_id</th>\n",
       "      <th>average_basket_value</th>\n",
       "    </tr>\n",
       "  </thead>\n",
       "  <tbody>\n",
       "    <tr>\n",
       "      <th>count</th>\n",
       "      <td>394.000000</td>\n",
       "      <td>394.000000</td>\n",
       "      <td>394.000000</td>\n",
       "      <td>394.000000</td>\n",
       "      <td>394.000000</td>\n",
       "      <td>394.000000</td>\n",
       "      <td>394.000000</td>\n",
       "      <td>394.000000</td>\n",
       "      <td>394.000000</td>\n",
       "    </tr>\n",
       "    <tr>\n",
       "      <th>mean</th>\n",
       "      <td>451.895939</td>\n",
       "      <td>2.021041</td>\n",
       "      <td>0.596117</td>\n",
       "      <td>0.509589</td>\n",
       "      <td>1846.502538</td>\n",
       "      <td>278.304569</td>\n",
       "      <td>44.926396</td>\n",
       "      <td>4.312183</td>\n",
       "      <td>36.781487</td>\n",
       "    </tr>\n",
       "    <tr>\n",
       "      <th>std</th>\n",
       "      <td>256.978077</td>\n",
       "      <td>2.566045</td>\n",
       "      <td>0.101352</td>\n",
       "      <td>0.294504</td>\n",
       "      <td>1767.829482</td>\n",
       "      <td>214.236424</td>\n",
       "      <td>21.248012</td>\n",
       "      <td>0.725054</td>\n",
       "      <td>19.337336</td>\n",
       "    </tr>\n",
       "    <tr>\n",
       "      <th>min</th>\n",
       "      <td>3.000000</td>\n",
       "      <td>0.000000</td>\n",
       "      <td>0.260000</td>\n",
       "      <td>0.002000</td>\n",
       "      <td>45.950000</td>\n",
       "      <td>10.000000</td>\n",
       "      <td>4.000000</td>\n",
       "      <td>2.000000</td>\n",
       "      <td>9.342000</td>\n",
       "    </tr>\n",
       "    <tr>\n",
       "      <th>25%</th>\n",
       "      <td>224.250000</td>\n",
       "      <td>0.710000</td>\n",
       "      <td>0.530000</td>\n",
       "      <td>0.263000</td>\n",
       "      <td>942.067500</td>\n",
       "      <td>201.000000</td>\n",
       "      <td>41.000000</td>\n",
       "      <td>4.000000</td>\n",
       "      <td>22.406953</td>\n",
       "    </tr>\n",
       "    <tr>\n",
       "      <th>50%</th>\n",
       "      <td>452.000000</td>\n",
       "      <td>1.645000</td>\n",
       "      <td>0.590000</td>\n",
       "      <td>0.510500</td>\n",
       "      <td>1471.490000</td>\n",
       "      <td>258.500000</td>\n",
       "      <td>50.000000</td>\n",
       "      <td>4.000000</td>\n",
       "      <td>30.365417</td>\n",
       "    </tr>\n",
       "    <tr>\n",
       "      <th>75%</th>\n",
       "      <td>680.250000</td>\n",
       "      <td>2.910000</td>\n",
       "      <td>0.660000</td>\n",
       "      <td>0.771500</td>\n",
       "      <td>2104.727500</td>\n",
       "      <td>318.500000</td>\n",
       "      <td>53.000000</td>\n",
       "      <td>5.000000</td>\n",
       "      <td>47.208474</td>\n",
       "    </tr>\n",
       "    <tr>\n",
       "      <th>max</th>\n",
       "      <td>869.000000</td>\n",
       "      <td>44.370000</td>\n",
       "      <td>0.880000</td>\n",
       "      <td>1.000000</td>\n",
       "      <td>9878.760000</td>\n",
       "      <td>1187.000000</td>\n",
       "      <td>109.000000</td>\n",
       "      <td>5.000000</td>\n",
       "      <td>102.335417</td>\n",
       "    </tr>\n",
       "  </tbody>\n",
       "</table>\n",
       "</div>"
      ],
      "text/plain": [
       "       customer_id  distance_from_store  credit_score  customer_loyalty_score  \\\n",
       "count   394.000000           394.000000    394.000000              394.000000   \n",
       "mean    451.895939             2.021041      0.596117                0.509589   \n",
       "std     256.978077             2.566045      0.101352                0.294504   \n",
       "min       3.000000             0.000000      0.260000                0.002000   \n",
       "25%     224.250000             0.710000      0.530000                0.263000   \n",
       "50%     452.000000             1.645000      0.590000                0.510500   \n",
       "75%     680.250000             2.910000      0.660000                0.771500   \n",
       "max     869.000000            44.370000      0.880000                1.000000   \n",
       "\n",
       "       toatl_sales_cost    num_items  transactions_id  product_area_id  \\\n",
       "count        394.000000   394.000000       394.000000       394.000000   \n",
       "mean        1846.502538   278.304569        44.926396         4.312183   \n",
       "std         1767.829482   214.236424        21.248012         0.725054   \n",
       "min           45.950000    10.000000         4.000000         2.000000   \n",
       "25%          942.067500   201.000000        41.000000         4.000000   \n",
       "50%         1471.490000   258.500000        50.000000         4.000000   \n",
       "75%         2104.727500   318.500000        53.000000         5.000000   \n",
       "max         9878.760000  1187.000000       109.000000         5.000000   \n",
       "\n",
       "       average_basket_value  \n",
       "count            394.000000  \n",
       "mean              36.781487  \n",
       "std               19.337336  \n",
       "min                9.342000  \n",
       "25%               22.406953  \n",
       "50%               30.365417  \n",
       "75%               47.208474  \n",
       "max              102.335417  "
      ]
     },
     "execution_count": 13,
     "metadata": {},
     "output_type": "execute_result"
    }
   ],
   "source": [
    "outlier_investigatoin"
   ]
  },
  {
   "cell_type": "code",
   "execution_count": 14,
   "metadata": {},
   "outputs": [
    {
     "name": "stdout",
     "output_type": "stream",
     "text": [
      "there were 2 outliers detecetd\n",
      "there were 23 outliers detecetd\n",
      "there were 0 outliers detecetd\n",
      "there were 1 outliers detecetd\n",
      "there were 0 outliers detecetd\n",
      "there were 5 outliers detecetd\n"
     ]
    }
   ],
   "source": [
    "outlier_column=[\"distance_from_store\",\"toatl_sales_cost\",\n",
    "               \"num_items\", \"credit_score\", \"customer_loyalty_score\", \"average_basket_value\" ]\n",
    "for column in outlier_column:\n",
    "    \n",
    "    lower_qrt=data_for_model[column].quantile(0.25)\n",
    "    upper_qrt=data_for_model[column].quantile(0.75)  \n",
    "    inetrqrt_range = upper_qrt - lower_qrt\n",
    "    Lower_boundary = lower_qrt - (inetrqrt_range* 2)\n",
    "    Upper_boundary = upper_qrt + (inetrqrt_range* 2)\n",
    "    outliers = data_for_model[(data_for_model[column] < Lower_boundary) | (data_for_model[column] > Upper_boundary)].index\n",
    "    \n",
    "    print(f\"there were {len(outliers)} outliers detecetd\")\n",
    "    \n",
    "    data_for_model.drop(outliers, inplace=True)"
   ]
  },
  {
   "cell_type": "code",
   "execution_count": null,
   "metadata": {},
   "outputs": [],
   "source": []
  },
  {
   "cell_type": "code",
   "execution_count": 72,
   "metadata": {},
   "outputs": [],
   "source": [
    "def outliers(list, num):\n",
    "    for column in list:\n",
    "    \n",
    "        lower_qrt=data_for_model[column].quantile(0.25)\n",
    "        upper_qrt=data_for_model[column].quantile(0.75)  \n",
    "        inetrqrt_range = upper_qrt - lower_qrt\n",
    "        Lower_boundary = lower_qrt - (inetrqrt_range* num)\n",
    "        Upper_boundary = upper_qrt + (inetrqrt_range* num)\n",
    "        outliers = data_for_model[(data_for_model[column] < Lower_boundary) | (data_for_model[column] > Upper_boundary)].index\n",
    "        print(f\"there were {len(outliers)} outliers detecetd in {column}\")\n",
    "    "
   ]
  },
  {
   "cell_type": "code",
   "execution_count": 73,
   "metadata": {},
   "outputs": [
    {
     "name": "stdout",
     "output_type": "stream",
     "text": [
      "there were 22 outliers detecetd in toatl_sales_cost\n"
     ]
    }
   ],
   "source": [
    "outliers([\"toatl_sales_cost\"], 2)"
   ]
  },
  {
   "cell_type": "code",
   "execution_count": null,
   "metadata": {},
   "outputs": [],
   "source": [
    "outliers([\"distance_from_store\", \"toatl_sales_cost\"])"
   ]
  },
  {
   "cell_type": "code",
   "execution_count": null,
   "metadata": {},
   "outputs": [],
   "source": [
    "### splitting dataset"
   ]
  },
  {
   "cell_type": "code",
   "execution_count": 54,
   "metadata": {},
   "outputs": [
    {
     "data": {
      "text/html": [
       "<div>\n",
       "<style scoped>\n",
       "    .dataframe tbody tr th:only-of-type {\n",
       "        vertical-align: middle;\n",
       "    }\n",
       "\n",
       "    .dataframe tbody tr th {\n",
       "        vertical-align: top;\n",
       "    }\n",
       "\n",
       "    .dataframe thead th {\n",
       "        text-align: right;\n",
       "    }\n",
       "</style>\n",
       "<table border=\"1\" class=\"dataframe\">\n",
       "  <thead>\n",
       "    <tr style=\"text-align: right;\">\n",
       "      <th></th>\n",
       "      <th>customer_id</th>\n",
       "      <th>distance_from_store</th>\n",
       "      <th>gender</th>\n",
       "      <th>credit_score</th>\n",
       "      <th>toatl_sales_cost</th>\n",
       "      <th>num_items</th>\n",
       "      <th>transactions_id</th>\n",
       "      <th>product_area_id</th>\n",
       "      <th>average_basket_value</th>\n",
       "    </tr>\n",
       "  </thead>\n",
       "  <tbody>\n",
       "    <tr>\n",
       "      <th>455</th>\n",
       "      <td>677</td>\n",
       "      <td>0.28</td>\n",
       "      <td>M</td>\n",
       "      <td>0.81</td>\n",
       "      <td>990.65</td>\n",
       "      <td>243</td>\n",
       "      <td>53</td>\n",
       "      <td>4</td>\n",
       "      <td>18.691509</td>\n",
       "    </tr>\n",
       "    <tr>\n",
       "      <th>621</th>\n",
       "      <td>333</td>\n",
       "      <td>2.58</td>\n",
       "      <td>F</td>\n",
       "      <td>0.58</td>\n",
       "      <td>333.26</td>\n",
       "      <td>70</td>\n",
       "      <td>13</td>\n",
       "      <td>4</td>\n",
       "      <td>25.635385</td>\n",
       "    </tr>\n",
       "    <tr>\n",
       "      <th>64</th>\n",
       "      <td>65</td>\n",
       "      <td>0.80</td>\n",
       "      <td>M</td>\n",
       "      <td>0.80</td>\n",
       "      <td>1753.96</td>\n",
       "      <td>371</td>\n",
       "      <td>52</td>\n",
       "      <td>5</td>\n",
       "      <td>33.730000</td>\n",
       "    </tr>\n",
       "    <tr>\n",
       "      <th>456</th>\n",
       "      <td>208</td>\n",
       "      <td>0.16</td>\n",
       "      <td>M</td>\n",
       "      <td>0.56</td>\n",
       "      <td>929.57</td>\n",
       "      <td>225</td>\n",
       "      <td>51</td>\n",
       "      <td>4</td>\n",
       "      <td>18.226863</td>\n",
       "    </tr>\n",
       "    <tr>\n",
       "      <th>196</th>\n",
       "      <td>438</td>\n",
       "      <td>3.27</td>\n",
       "      <td>F</td>\n",
       "      <td>0.67</td>\n",
       "      <td>1904.55</td>\n",
       "      <td>376</td>\n",
       "      <td>36</td>\n",
       "      <td>3</td>\n",
       "      <td>52.904167</td>\n",
       "    </tr>\n",
       "  </tbody>\n",
       "</table>\n",
       "</div>"
      ],
      "text/plain": [
       "     customer_id  distance_from_store gender  credit_score  toatl_sales_cost  \\\n",
       "455          677                 0.28      M          0.81            990.65   \n",
       "621          333                 2.58      F          0.58            333.26   \n",
       "64            65                 0.80      M          0.80           1753.96   \n",
       "456          208                 0.16      M          0.56            929.57   \n",
       "196          438                 3.27      F          0.67           1904.55   \n",
       "\n",
       "     num_items  transactions_id  product_area_id  average_basket_value  \n",
       "455        243               53                4             18.691509  \n",
       "621         70               13                4             25.635385  \n",
       "64         371               52                5             33.730000  \n",
       "456        225               51                4             18.226863  \n",
       "196        376               36                3             52.904167  "
      ]
     },
     "execution_count": 54,
     "metadata": {},
     "output_type": "execute_result"
    }
   ],
   "source": [
    "X =data_for_model.drop([\"customer_loyalty_score\"], axis=1)\n",
    "X.head()"
   ]
  },
  {
   "cell_type": "code",
   "execution_count": 55,
   "metadata": {},
   "outputs": [],
   "source": [
    "y=data_for_model[\"customer_loyalty_score\"]"
   ]
  },
  {
   "cell_type": "code",
   "execution_count": 56,
   "metadata": {},
   "outputs": [],
   "source": [
    "regressor=LinearRegression()"
   ]
  },
  {
   "cell_type": "code",
   "execution_count": 57,
   "metadata": {},
   "outputs": [],
   "source": [
    "X_train, X_test, y_train, y_test = train_test_split(X,y, test_size=0.2, random_state=42)"
   ]
  },
  {
   "cell_type": "code",
   "execution_count": 205,
   "metadata": {},
   "outputs": [],
   "source": [
    "## DEALING WITH CATEGORICAL VARIABLES   # we use only transform on test dataset"
   ]
  },
  {
   "cell_type": "code",
   "execution_count": 206,
   "metadata": {},
   "outputs": [],
   "source": [
    "encoder= OneHotEncoder(sparse=False,drop= \"first\")\n",
    "cat_vars=[\"gender\"]\n",
    "X_train_encoder=encoder.fit_transform(X_train[cat_vars])\n",
    "X_test_encoder=encoder.transform(X_test[cat_vars])\n",
    "feature_names= encoder.get_feature_names(cat_vars)"
   ]
  },
  {
   "cell_type": "code",
   "execution_count": 207,
   "metadata": {},
   "outputs": [],
   "source": [
    "## we have to do this for both X_train and X_test\n",
    "X_train_encoder =pd.DataFrame(X_train_encoder, columns = feature_names)\n",
    "X_train = pd.concat([X_train.reset_index(drop=True), X_train_encoder.reset_index(drop=True)],axis=1)\n",
    "X_train.drop(cat_vars, axis =1, inplace=True)"
   ]
  },
  {
   "cell_type": "code",
   "execution_count": 208,
   "metadata": {},
   "outputs": [],
   "source": [
    "X_test_encoder =pd.DataFrame(X_test_encoder, columns = feature_names)\n",
    "X_test = pd.concat([X_test.reset_index(drop=True), X_test_encoder.reset_index(drop=True)],axis=1)\n",
    "X_test.drop(cat_vars, axis =1, inplace=True)"
   ]
  },
  {
   "cell_type": "code",
   "execution_count": 209,
   "metadata": {},
   "outputs": [
    {
     "data": {
      "text/html": [
       "<div>\n",
       "<style scoped>\n",
       "    .dataframe tbody tr th:only-of-type {\n",
       "        vertical-align: middle;\n",
       "    }\n",
       "\n",
       "    .dataframe tbody tr th {\n",
       "        vertical-align: top;\n",
       "    }\n",
       "\n",
       "    .dataframe thead th {\n",
       "        text-align: right;\n",
       "    }\n",
       "</style>\n",
       "<table border=\"1\" class=\"dataframe\">\n",
       "  <thead>\n",
       "    <tr style=\"text-align: right;\">\n",
       "      <th></th>\n",
       "      <th>customer_id</th>\n",
       "      <th>distance_from_store</th>\n",
       "      <th>credit_score</th>\n",
       "      <th>toatl_sales_cost</th>\n",
       "      <th>num_items</th>\n",
       "      <th>transactions_id</th>\n",
       "      <th>product_area_id</th>\n",
       "      <th>average_basket_value</th>\n",
       "      <th>gender_M</th>\n",
       "    </tr>\n",
       "  </thead>\n",
       "  <tbody>\n",
       "    <tr>\n",
       "      <th>0</th>\n",
       "      <td>849</td>\n",
       "      <td>0.19</td>\n",
       "      <td>0.57</td>\n",
       "      <td>1096.96</td>\n",
       "      <td>202</td>\n",
       "      <td>53</td>\n",
       "      <td>5</td>\n",
       "      <td>20.697358</td>\n",
       "      <td>1.0</td>\n",
       "    </tr>\n",
       "    <tr>\n",
       "      <th>1</th>\n",
       "      <td>301</td>\n",
       "      <td>0.39</td>\n",
       "      <td>0.43</td>\n",
       "      <td>933.39</td>\n",
       "      <td>220</td>\n",
       "      <td>51</td>\n",
       "      <td>4</td>\n",
       "      <td>18.301765</td>\n",
       "      <td>1.0</td>\n",
       "    </tr>\n",
       "    <tr>\n",
       "      <th>2</th>\n",
       "      <td>794</td>\n",
       "      <td>2.27</td>\n",
       "      <td>0.49</td>\n",
       "      <td>1506.49</td>\n",
       "      <td>281</td>\n",
       "      <td>47</td>\n",
       "      <td>3</td>\n",
       "      <td>32.052979</td>\n",
       "      <td>0.0</td>\n",
       "    </tr>\n",
       "    <tr>\n",
       "      <th>3</th>\n",
       "      <td>615</td>\n",
       "      <td>3.10</td>\n",
       "      <td>0.59</td>\n",
       "      <td>330.79</td>\n",
       "      <td>81</td>\n",
       "      <td>13</td>\n",
       "      <td>4</td>\n",
       "      <td>25.445385</td>\n",
       "      <td>0.0</td>\n",
       "    </tr>\n",
       "    <tr>\n",
       "      <th>4</th>\n",
       "      <td>308</td>\n",
       "      <td>0.07</td>\n",
       "      <td>0.53</td>\n",
       "      <td>2053.04</td>\n",
       "      <td>210</td>\n",
       "      <td>54</td>\n",
       "      <td>5</td>\n",
       "      <td>38.019259</td>\n",
       "      <td>1.0</td>\n",
       "    </tr>\n",
       "  </tbody>\n",
       "</table>\n",
       "</div>"
      ],
      "text/plain": [
       "   customer_id  distance_from_store  credit_score  toatl_sales_cost  \\\n",
       "0          849                 0.19          0.57           1096.96   \n",
       "1          301                 0.39          0.43            933.39   \n",
       "2          794                 2.27          0.49           1506.49   \n",
       "3          615                 3.10          0.59            330.79   \n",
       "4          308                 0.07          0.53           2053.04   \n",
       "\n",
       "   num_items  transactions_id  product_area_id  average_basket_value  gender_M  \n",
       "0        202               53                5             20.697358       1.0  \n",
       "1        220               51                4             18.301765       1.0  \n",
       "2        281               47                3             32.052979       0.0  \n",
       "3         81               13                4             25.445385       0.0  \n",
       "4        210               54                5             38.019259       1.0  "
      ]
     },
     "execution_count": 209,
     "metadata": {},
     "output_type": "execute_result"
    }
   ],
   "source": [
    "X_train.head()"
   ]
  },
  {
   "cell_type": "code",
   "execution_count": 210,
   "metadata": {},
   "outputs": [],
   "source": [
    "## Feature Selection"
   ]
  },
  {
   "cell_type": "code",
   "execution_count": 211,
   "metadata": {},
   "outputs": [
    {
     "name": "stdout",
     "output_type": "stream",
     "text": [
      "Optimal no. of features: 8\n"
     ]
    }
   ],
   "source": [
    "regressor=LinearRegression()\n",
    "feature_selector= RFECV(regressor)\n",
    "fit = feature_selector.fit(X_train, y_train)\n",
    "optimal_feature_count =feature_selector.n_features_\n",
    "print(f\"Optimal no. of features: {optimal_feature_count}\")"
   ]
  },
  {
   "cell_type": "code",
   "execution_count": 212,
   "metadata": {},
   "outputs": [],
   "source": [
    "X_train = X_train.loc[:, feature_selector.get_support()]\n",
    "X_test = X_test.loc[:, feature_selector.get_support()]"
   ]
  },
  {
   "cell_type": "code",
   "execution_count": 213,
   "metadata": {},
   "outputs": [
    {
     "data": {
      "image/png": "[encoded data removed]",
      "text/plain": [
       "<Figure size 432x288 with 1 Axes>"
      ]
     },
     "metadata": {
      "needs_background": "light"
     },
     "output_type": "display_data"
    }
   ],
   "source": [
    "plt.plot(range(1, len(fit.grid_scores_)+1), fit.grid_scores_, marker=\"o\")\n",
    "plt.ylabel(\"Model_Scores\")\n",
    "plt.xlabel(\"Number_of_Features\")\n",
    "plt.title(f\"Feature_Selection_using_RFECV \\n Optimal number of features is {optimal_feature_count} (at scores of {round(max(fit.grid_scores_),4)})\")\n",
    "plt.tight_layout()\n",
    "plt.show()"
   ]
  },
  {
   "cell_type": "code",
   "execution_count": 214,
   "metadata": {},
   "outputs": [
    {
     "data": {
      "text/plain": [
       "LinearRegression()"
      ]
     },
     "execution_count": 214,
     "metadata": {},
     "output_type": "execute_result"
    }
   ],
   "source": [
    "## Model fitting\n",
    "regressor.fit(X_train, y_train)"
   ]
  },
  {
   "cell_type": "code",
   "execution_count": 215,
   "metadata": {},
   "outputs": [],
   "source": [
    "y_pred=regressor.predict(X_test)"
   ]
  },
  {
   "cell_type": "code",
   "execution_count": 217,
   "metadata": {},
   "outputs": [
    {
     "data": {
      "text/plain": [
       "0.7805702910327399"
      ]
     },
     "execution_count": 217,
     "metadata": {},
     "output_type": "execute_result"
    }
   ],
   "source": [
    "r_squared=r2_score(y_test, y_pred)\n",
    "r_squared"
   ]
  },
  {
   "cell_type": "code",
   "execution_count": null,
   "metadata": {},
   "outputs": [],
   "source": [
    "#### Cross validation"
   ]
  },
  {
   "cell_type": "code",
   "execution_count": 220,
   "metadata": {},
   "outputs": [
    {
     "data": {
      "text/plain": [
       "0.8532327536589749"
      ]
     },
     "execution_count": 220,
     "metadata": {},
     "output_type": "execute_result"
    }
   ],
   "source": [
    "cv = KFold(n_splits =4, shuffle =True, random_state = 42)\n",
    "cv_scores= cross_val_score(regressor, X_train, y_train, cv = cv, scoring = \"r2\")\n",
    "cv_scores.mean()"
   ]
  },
  {
   "cell_type": "code",
   "execution_count": 221,
   "metadata": {},
   "outputs": [],
   "source": [
    "### Calculate adjusted R-square"
   ]
  },
  {
   "cell_type": "code",
   "execution_count": 226,
   "metadata": {},
   "outputs": [
    {
     "name": "stdout",
     "output_type": "stream",
     "text": [
      "0.7535635576213848\n"
     ]
    }
   ],
   "source": [
    "num_data_points, num_input_vars= X_test.shape\n",
    "adjusted_R_square = 1 - (1 - r_squared) * (num_data_points - 1) /(num_data_points - num_input_vars -1)\n",
    "print(adjusted_R_square)"
   ]
  },
  {
   "cell_type": "code",
   "execution_count": 227,
   "metadata": {},
   "outputs": [],
   "source": [
    "### Extracting Model coefficients"
   ]
  },
  {
   "cell_type": "code",
   "execution_count": 228,
   "metadata": {},
   "outputs": [],
   "source": [
    "coefficients=pd.DataFrame(regressor.coef_)\n",
    "var_name= pd.DataFrame(X_train.columns)\n",
    "summary_stats=pd.concat([coefficients, var_name], axis=1)\n",
    "summary_stats.columns=[\"coefficients\", \"var_name\"]"
   ]
  },
  {
   "cell_type": "code",
   "execution_count": 229,
   "metadata": {},
   "outputs": [
    {
     "data": {
      "text/html": [
       "<div>\n",
       "<style scoped>\n",
       "    .dataframe tbody tr th:only-of-type {\n",
       "        vertical-align: middle;\n",
       "    }\n",
       "\n",
       "    .dataframe tbody tr th {\n",
       "        vertical-align: top;\n",
       "    }\n",
       "\n",
       "    .dataframe thead th {\n",
       "        text-align: right;\n",
       "    }\n",
       "</style>\n",
       "<table border=\"1\" class=\"dataframe\">\n",
       "  <thead>\n",
       "    <tr style=\"text-align: right;\">\n",
       "      <th></th>\n",
       "      <th>coefficients</th>\n",
       "      <th>var_name</th>\n",
       "    </tr>\n",
       "  </thead>\n",
       "  <tbody>\n",
       "    <tr>\n",
       "      <th>0</th>\n",
       "      <td>-0.201232</td>\n",
       "      <td>distance_from_store</td>\n",
       "    </tr>\n",
       "    <tr>\n",
       "      <th>1</th>\n",
       "      <td>-0.027697</td>\n",
       "      <td>credit_score</td>\n",
       "    </tr>\n",
       "    <tr>\n",
       "      <th>2</th>\n",
       "      <td>0.000142</td>\n",
       "      <td>toatl_sales_cost</td>\n",
       "    </tr>\n",
       "    <tr>\n",
       "      <th>3</th>\n",
       "      <td>0.001002</td>\n",
       "      <td>num_items</td>\n",
       "    </tr>\n",
       "    <tr>\n",
       "      <th>4</th>\n",
       "      <td>-0.004842</td>\n",
       "      <td>transactions_id</td>\n",
       "    </tr>\n",
       "    <tr>\n",
       "      <th>5</th>\n",
       "      <td>0.061659</td>\n",
       "      <td>product_area_id</td>\n",
       "    </tr>\n",
       "    <tr>\n",
       "      <th>6</th>\n",
       "      <td>-0.003971</td>\n",
       "      <td>average_basket_value</td>\n",
       "    </tr>\n",
       "    <tr>\n",
       "      <th>7</th>\n",
       "      <td>-0.013393</td>\n",
       "      <td>gender_M</td>\n",
       "    </tr>\n",
       "  </tbody>\n",
       "</table>\n",
       "</div>"
      ],
      "text/plain": [
       "   coefficients              var_name\n",
       "0     -0.201232   distance_from_store\n",
       "1     -0.027697          credit_score\n",
       "2      0.000142      toatl_sales_cost\n",
       "3      0.001002             num_items\n",
       "4     -0.004842       transactions_id\n",
       "5      0.061659       product_area_id\n",
       "6     -0.003971  average_basket_value\n",
       "7     -0.013393              gender_M"
      ]
     },
     "execution_count": 229,
     "metadata": {},
     "output_type": "execute_result"
    }
   ],
   "source": [
    "summary_stats"
   ]
  },
  {
   "cell_type": "code",
   "execution_count": 231,
   "metadata": {},
   "outputs": [
    {
     "data": {
      "text/plain": [
       "0.516097417464616"
      ]
     },
     "execution_count": 231,
     "metadata": {},
     "output_type": "execute_result"
    }
   ],
   "source": [
    "### Extracting intercept\n",
    "regressor.intercept_"
   ]
  },
  {
   "cell_type": "code",
   "execution_count": null,
   "metadata": {},
   "outputs": [],
   "source": []
  }
 ],
 "metadata": {
  "kernelspec": {
   "display_name": "Python 3",
   "language": "python",
   "name": "python3"
  },
  "language_info": {
   "codemirror_mode": {
    "name": "ipython",
    "version": 3
   },
   "file_extension": ".py",
   "mimetype": "text/x-python",
   "name": "python",
   "nbconvert_exporter": "python",
   "pygments_lexer": "ipython3",
   "version": "3.8.5"
  }
 },
 "nbformat": 4,
 "nbformat_minor": 4
}
